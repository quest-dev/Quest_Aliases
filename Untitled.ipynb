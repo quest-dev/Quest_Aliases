{
 "cells": [
  {
   "cell_type": "code",
   "execution_count": null,
   "metadata": {},
   "outputs": [],
   "source": [
    "global_storage = []\n",
    "\n",
    "def add(x1, x2):\n",
    "    return x1 + x2\n",
    "\n",
    "def sub(x1, x2):\n",
    "    return x1 - x2\n",
    "\n",
    "def mult(x1, x2):\n",
    "    return x1 * x2\n",
    "\n",
    "def div(x1, x2):\n",
    "    return x1 / x2"
   ]
  },
  {
   "cell_type": "code",
   "execution_count": null,
   "metadata": {},
   "outputs": [],
   "source": [
    "# Saving a function to a variable\n",
    "my_add = add\n",
    "print(type(my_add))"
   ]
  },
  {
   "cell_type": "code",
   "execution_count": null,
   "metadata": {},
   "outputs": [],
   "source": [
    "# Execute a list of functions.\n",
    "from inspect import signature\n",
    "\n",
    "from inspect import signature\n",
    "my_fun = [add, sub, mult, div]\n",
    "for item in my_fun:\n",
    "    print(type(item))\n",
    "#     sig = signature(item)\n",
    "#     params = sig.parameters \n",
    "#     print(len(params))\n",
    "#     print(type(len(params)))\n",
    "my_string = \"add\"\n",
    "x = getattr(my_string)"
   ]
  },
  {
   "cell_type": "code",
   "execution_count": null,
   "metadata": {},
   "outputs": [],
   "source": [
    "# Example of a context manager.\n",
    "from contextlib import contextmanager\n",
    "import io\n",
    "import sys\n",
    "\n",
    "@contextmanager\n",
    "def capture():\n",
    "    old_stdout = sys.stdout\n",
    "    sys.stdout = io.StringIO()\n",
    "    try:\n",
    "        yield sys.stdout\n",
    "    finally:\n",
    "        sys.stdout = old_stdout\n",
    "\n",
    "def funA():\n",
    "    print(\"In function A.\")\n",
    "\n",
    "def funB():\n",
    "    print(\"In function B.\")\n",
    "\n",
    "def capture(functions):\n",
    "    with capture() as c:\n",
    "        funA()\n",
    "        funB()\n",
    "        print('HELLO!')\n",
    "\n",
    "print(c.getvalue())"
   ]
  },
  {
   "cell_type": "code",
   "execution_count": null,
   "metadata": {},
   "outputs": [],
   "source": [
    "aaron = \"Aaron Valoroso Anthony\"\n",
    "value = aaron.split()[0]\n",
    "print(value)"
   ]
  },
  {
   "cell_type": "code",
   "execution_count": null,
   "metadata": {},
   "outputs": [],
   "source": [
    "functions = dict()\n",
    "if isinstance(functions, (dict,)):\n",
    "    print(\"Here\")\n",
    "functions = list()\n",
    "if isinstance(functions, (list,)):\n",
    "    print(\"Here\")\n",
    "the_string = str()\n",
    "if isinstance(the_string, str):\n",
    "    print(\"Here\")\n",
    "the_int = int()\n",
    "if isinstance(the_int, int):\n",
    "    print(\"Here\")"
   ]
  },
  {
   "cell_type": "code",
   "execution_count": null,
   "metadata": {},
   "outputs": [],
   "source": [
    "def get_class( kls ):\n",
    "    parts = kls.split('.')\n",
    "    module = \".\".join(parts[:-1])\n",
    "    m = __import__( module )\n",
    "    for comp in parts[1:]:\n",
    "        m = getattr(m, comp)            \n",
    "    return m"
   ]
  },
  {
   "cell_type": "code",
   "execution_count": null,
   "metadata": {},
   "outputs": [],
   "source": [
    "import importlib\n",
    "function_string = 'quest.api.get_services'\n",
    "mod_name, func_name = function_string.rsplit('.',1)\n",
    "print(\"Mod: \", mod_name)\n",
    "print(\"Func: \", func_name)\n",
    "mod = importlib.import_module(mod_name)\n",
    "func = getattr(mod, func_name)\n",
    "result = func()"
   ]
  },
  {
   "cell_type": "code",
   "execution_count": null,
   "metadata": {},
   "outputs": [],
   "source": [
    "the_dict = {'dog': 'something', 'cat': 'something'}\n",
    "if 'dog' in the_dict:\n",
    "    print(\"monkey\")"
   ]
  },
  {
   "cell_type": "code",
   "execution_count": null,
   "metadata": {},
   "outputs": [],
   "source": [
    "the_dict.values()"
   ]
  },
  {
   "cell_type": "code",
   "execution_count": null,
   "metadata": {},
   "outputs": [],
   "source": [
    "if 'something' in the_dict.values():\n",
    "    print(\"monkey-2\")"
   ]
  },
  {
   "cell_type": "code",
   "execution_count": 1,
   "metadata": {},
   "outputs": [
    {
     "name": "stderr",
     "output_type": "stream",
     "text": [
      "/Users/rditlaav/miniconda3/envs/Quest/lib/python3.6/site-packages/ulmo/twc/kbdi/core.py:20: FutureWarning: pandas.tslib is deprecated and will be removed in a future version.\n",
      "You can access Timestamp as pandas.Timestamp\n",
      "  CSV_SWITCHOVER = pandas.tslib.Timestamp('2016-10-01')\n"
     ]
    },
    {
     "name": "stdout",
     "output_type": "stream",
     "text": [
      "Dog\n",
      "Kevin\n",
      "Aaron\n",
      "HERE\n",
      "Aaron\n",
      "Aaron\n",
      "Aaron\n",
      "Cat\n",
      "Kevin\n",
      "Aaron\n",
      "Aaron\n",
      "Kevin\n",
      "Aaron\n",
      "Aaron\n",
      "Kevin\n",
      "Aaron\n",
      "Aaron\n"
     ]
    }
   ],
   "source": [
    "import quest"
   ]
  },
  {
   "cell_type": "code",
   "execution_count": null,
   "metadata": {},
   "outputs": [],
   "source": [
    "quest.util.get_settings()"
   ]
  },
  {
   "cell_type": "code",
   "execution_count": null,
   "metadata": {},
   "outputs": [],
   "source": [
    "import os\n",
    "_ROOT = os.path.abspath(os.path.dirname(__file__))"
   ]
  },
  {
   "cell_type": "code",
   "execution_count": null,
   "metadata": {},
   "outputs": [],
   "source": []
  }
 ],
 "metadata": {
  "kernelspec": {
   "display_name": "Python 3",
   "language": "python",
   "name": "python3"
  },
  "language_info": {
   "codemirror_mode": {
    "name": "ipython",
    "version": 3
   },
   "file_extension": ".py",
   "mimetype": "text/x-python",
   "name": "python",
   "nbconvert_exporter": "python",
   "pygments_lexer": "ipython3",
   "version": "3.6.5"
  }
 },
 "nbformat": 4,
 "nbformat_minor": 2
}
