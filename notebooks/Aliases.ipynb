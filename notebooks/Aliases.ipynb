{
 "cells": [
  {
   "cell_type": "code",
   "execution_count": null,
   "metadata": {},
   "outputs": [],
   "source": [
    "from inspect import signature\n",
    "import quest"
   ]
  },
  {
   "cell_type": "code",
   "execution_count": null,
   "metadata": {},
   "outputs": [],
   "source": [
    "global_aliases = {}\n",
    "class helpful_functions(object):\n",
    "    def __init__(self):\n",
    "        pass\n",
    "    \n",
    "    def create_alias(self, name, functions):\n",
    "        if name not in global_aliases:\n",
    "            if isinstance(functions, (list,)):\n",
    "                list_of_parameters = list()\n",
    "                number_of_parameters = 0\n",
    "                for item in functions:\n",
    "                    sig = signature(item)\n",
    "                    list_of_parameters.append(len(sig.parameters))\n",
    "                    number_of_parameters += len(sig.parameters)\n",
    "                global_aliases[name] = (functions, list_of_parameters)\n",
    "            else:\n",
    "                sig = signature(functions)\n",
    "                global_aliases[name] = (functions, len(sig.parameters), len(sig.parameters))\n",
    "        else:\n",
    "            print(\"There is an alias by that name already...!\")\n",
    "    \n",
    "    def call_alias(self, name, list_of_lists_of_parameters=None):\n",
    "        if name in global_aliases:\n",
    "            for index, item in enumerate(global_aliases[name][0]):\n",
    "                if list_of_lists_of_parameters:\n",
    "                    if len(list_of_lists_of_parameters) == 0:\n",
    "                        print(item())\n",
    "                    else:\n",
    "                        print(item(*list_of_lists_of_parameters[index]))\n",
    "                else:\n",
    "                    print(item())  \n",
    "        else:\n",
    "            print(\"There is no alias by that name...!\")\n",
    "    \n",
    "    def delete_alias(self, name):\n",
    "        try:\n",
    "            del global_aliases[name]\n",
    "            return 1\n",
    "        except KeyError:\n",
    "            print(\"No alias by that name in the system...!\")\n",
    "            return 0\n",
    "    \n",
    "    def alias_information(self, name):\n",
    "        if name in global_aliases:\n",
    "            print(\"Alias Name: \", name)\n",
    "            print(\"Alias Functions: \", end='\\n')\n",
    "            for index, item in enumerate(global_aliases[name][0]):\n",
    "                print(index, \" Function: \", str(item).split()[2], \" #, of Parameters: \", global_aliases[name][1][index])\n",
    "        else:\n",
    "            print(\"There is no alias by that name...!\")\n",
    "            \n",
    "    def add(self, x1, x2):\n",
    "        return x1 + x2\n",
    "\n",
    "    def sub(self, x1, x2):\n",
    "        return x1 - x2\n",
    "\n",
    "    def mult(self, x1, x2):\n",
    "        return x1 * x2\n",
    "\n",
    "    def div(self, x1, x2):\n",
    "        return x1 / x2"
   ]
  },
  {
   "cell_type": "code",
   "execution_count": null,
   "metadata": {},
   "outputs": [],
   "source": [
    "\n",
    "def main():\n",
    "    func = helpful_functions()\n",
    "    func.create_alias('simple', [func.add,func.sub])\n",
    "    func.alias_information('simple')\n",
    "    func.call_alias('simple', [[2,2],[3,3]])\n",
    "    func.delete_alias('simple')\n",
    "    func.alias_information('simple')\n",
    "main()"
   ]
  },
  {
   "cell_type": "code",
   "execution_count": 2,
   "metadata": {},
   "outputs": [
    {
     "ename": "NameError",
     "evalue": "name 'quest' is not defined",
     "output_type": "error",
     "traceback": [
      "\u001b[0;31m---------------------------------------------------------------------------\u001b[0m",
      "\u001b[0;31mNameError\u001b[0m                                 Traceback (most recent call last)",
      "\u001b[0;32m<ipython-input-2-d479eacd244c>\u001b[0m in \u001b[0;36m<module>\u001b[0;34m()\u001b[0m\n\u001b[1;32m      9\u001b[0m     \u001b[0mfunc\u001b[0m\u001b[0;34m.\u001b[0m\u001b[0mdelete_alias\u001b[0m\u001b[0;34m(\u001b[0m\u001b[0;34m'simple2'\u001b[0m\u001b[0;34m)\u001b[0m\u001b[0;34m\u001b[0m\u001b[0m\n\u001b[1;32m     10\u001b[0m     \u001b[0mfunc\u001b[0m\u001b[0;34m.\u001b[0m\u001b[0malias_information\u001b[0m\u001b[0;34m(\u001b[0m\u001b[0;34m'simple2'\u001b[0m\u001b[0;34m)\u001b[0m\u001b[0;34m\u001b[0m\u001b[0m\n\u001b[0;32m---> 11\u001b[0;31m \u001b[0mmain\u001b[0m\u001b[0;34m(\u001b[0m\u001b[0;34m)\u001b[0m\u001b[0;34m\u001b[0m\u001b[0m\n\u001b[0m",
      "\u001b[0;32m<ipython-input-2-d479eacd244c>\u001b[0m in \u001b[0;36mmain\u001b[0;34m()\u001b[0m\n\u001b[1;32m      2\u001b[0m \u001b[0;32mdef\u001b[0m \u001b[0mmain\u001b[0m\u001b[0;34m(\u001b[0m\u001b[0;34m)\u001b[0m\u001b[0;34m:\u001b[0m\u001b[0;34m\u001b[0m\u001b[0m\n\u001b[1;32m      3\u001b[0m     \u001b[0mfunc\u001b[0m \u001b[0;34m=\u001b[0m \u001b[0maliases\u001b[0m\u001b[0;34m.\u001b[0m\u001b[0mhelpful_functions\u001b[0m\u001b[0;34m(\u001b[0m\u001b[0;34m)\u001b[0m\u001b[0;34m\u001b[0m\u001b[0m\n\u001b[0;32m----> 4\u001b[0;31m     \u001b[0mfunc\u001b[0m\u001b[0;34m.\u001b[0m\u001b[0mcreate_alias\u001b[0m\u001b[0;34m(\u001b[0m\u001b[0;34m'simple2'\u001b[0m\u001b[0;34m,\u001b[0m \u001b[0;34m[\u001b[0m\u001b[0mquest\u001b[0m\u001b[0;34m.\u001b[0m\u001b[0mapi\u001b[0m\u001b[0;34m.\u001b[0m\u001b[0mget_providers\u001b[0m\u001b[0;34m,\u001b[0m\u001b[0mquest\u001b[0m\u001b[0;34m.\u001b[0m\u001b[0mapi\u001b[0m\u001b[0;34m.\u001b[0m\u001b[0mget_services\u001b[0m\u001b[0;34m]\u001b[0m\u001b[0;34m)\u001b[0m\u001b[0;34m\u001b[0m\u001b[0m\n\u001b[0m\u001b[1;32m      5\u001b[0m     \u001b[0mfunc\u001b[0m\u001b[0;34m.\u001b[0m\u001b[0malias_information\u001b[0m\u001b[0;34m(\u001b[0m\u001b[0;34m'simple2'\u001b[0m\u001b[0;34m)\u001b[0m\u001b[0;34m\u001b[0m\u001b[0m\n\u001b[1;32m      6\u001b[0m     \u001b[0mprint\u001b[0m\u001b[0;34m(\u001b[0m\u001b[0;34m)\u001b[0m\u001b[0;34m\u001b[0m\u001b[0m\n",
      "\u001b[0;31mNameError\u001b[0m: name 'quest' is not defined"
     ]
    }
   ],
   "source": [
    "def main():\n",
    "    func = helpful_functions()\n",
    "    func.create_alias('simple2', [quest.api.get_providers,quest.api.get_services])\n",
    "    func.alias_information('simple2')\n",
    "    print()\n",
    "    func.call_alias('simple2')\n",
    "    print()\n",
    "    func.delete_alias('simple2')\n",
    "    func.alias_information('simple2')\n",
    "main()"
   ]
  },
  {
   "cell_type": "code",
   "execution_count": null,
   "metadata": {},
   "outputs": [],
   "source": []
  }
 ],
 "metadata": {
  "kernelspec": {
   "display_name": "Python 3",
   "language": "python",
   "name": "python3"
  },
  "language_info": {
   "codemirror_mode": {
    "name": "ipython",
    "version": 3
   },
   "file_extension": ".py",
   "mimetype": "text/x-python",
   "name": "python",
   "nbconvert_exporter": "python",
   "pygments_lexer": "ipython3",
   "version": "3.6.5"
  }
 },
 "nbformat": 4,
 "nbformat_minor": 2
}
