{
 "cells": [
  {
   "cell_type": "code",
   "execution_count": 4,
   "metadata": {},
   "outputs": [
    {
     "name": "stdout",
     "output_type": "stream",
     "text": [
      "Alias Name:  simple2\n",
      "Alias Functions: \n",
      "0  Function:  quest.api.get_services  #, of Parameters:  3\n",
      "1  Function:  quest.api.get_providers  #, of Parameters:  1\n",
      "2  Function:  test.my_print  #, of Parameters:  1\n",
      "\n",
      "Here:  ['cuahsi-hydroshare', 'kitware-girder', 'noaa-coast', 'noaa-ncdc', 'noaa-ncep', 'usgs-ned', 'usgs-nlcd', 'usgs-nwis']\n",
      "None\n",
      "\n",
      "There is no alias by that name...!\n"
     ]
    }
   ],
   "source": [
    "import aliases\n",
    "import warnings\n",
    "\n",
    "warnings.filterwarnings('ignore')\n",
    "\n",
    "def main():\n",
    "    func = aliases.Aliases()\n",
    "    func.create_alias('simple2', ['quest.api.get_services','quest.api.get_providers', 'test.my_print'])\n",
    "    func.alias_information('simple2')\n",
    "    print()\n",
    "#     results = func.call_alias('simple2', [[], [], {'stuff':'results'}])\n",
    "    results = func.call_alias('simple2', [[], [], ['results']])\n",
    "    print(results)\n",
    "    print()\n",
    "    func.delete_alias('simple2')\n",
    "    func.alias_information('simple2')\n",
    "main()"
   ]
  },
  {
   "cell_type": "code",
   "execution_count": null,
   "metadata": {},
   "outputs": [],
   "source": []
  }
 ],
 "metadata": {
  "kernelspec": {
   "display_name": "Python 3",
   "language": "python",
   "name": "python3"
  },
  "language_info": {
   "codemirror_mode": {
    "name": "ipython",
    "version": 3
   },
   "file_extension": ".py",
   "mimetype": "text/x-python",
   "name": "python",
   "nbconvert_exporter": "python",
   "pygments_lexer": "ipython3",
   "version": "3.6.5"
  }
 },
 "nbformat": 4,
 "nbformat_minor": 2
}
